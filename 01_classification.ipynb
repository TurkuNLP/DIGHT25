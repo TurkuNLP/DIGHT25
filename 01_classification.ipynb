{
  "nbformat": 4,
  "nbformat_minor": 0,
  "metadata": {
    "colab": {
      "provenance": [],
      "include_colab_link": true
    },
    "kernelspec": {
      "name": "python3",
      "display_name": "Python 3"
    },
    "language_info": {
      "name": "python"
    }
  },
  "cells": [
    {
      "cell_type": "markdown",
      "metadata": {
        "id": "view-in-github",
        "colab_type": "text"
      },
      "source": [
        "<a href=\"https://colab.research.google.com/github/TurkuNLP/DIGHT25/blob/main/01_classification.ipynb\" target=\"_parent\"><img src=\"https://colab.research.google.com/assets/colab-badge.svg\" alt=\"Open In Colab\"/></a>"
      ]
    },
    {
      "cell_type": "markdown",
      "source": [
        "# DSPy tutorial part 1:\n",
        "\n",
        "*   Grabs a dataset on climate change claims\n",
        "*   Carries out the same classification task using DSPy\n",
        "*   Compares the outputs\n",
        "\n",
        "IMPORTANT\n",
        "\n",
        "Before you start, press the \"key\" symbol on the left, create a \"new secret\"\n",
        "called \"openai-api-key\" and the value is the key you get from me. Allow \"Notebook access\"."
      ],
      "metadata": {
        "id": "bM-_X2IU14zs"
      }
    },
    {
      "cell_type": "code",
      "source": [
        "!pip3 install -q 'datasets<4.0.0'\n",
        "!pip3 install -q dspy"
      ],
      "metadata": {
        "collapsed": true,
        "id": "PfLgG9QBeJ6o"
      },
      "execution_count": 7,
      "outputs": []
    },
    {
      "cell_type": "code",
      "execution_count": 8,
      "metadata": {
        "colab": {
          "base_uri": "https://localhost:8080/"
        },
        "id": "4Mu0pSP0b-Cm",
        "outputId": "f2e141d3-42a4-4d64-8441-91182a0f8874"
      },
      "outputs": [
        {
          "output_type": "stream",
          "name": "stdout",
          "text": [
            " Quote: There is a lot of confusion in Asia about Alaska and the opportunities here, so we felt it was important to do this with BP and for us to be seen standing alongside each other. It’s an important way of demonstrating alignment,\n",
            " Label: 0_not_relevant\n",
            "\n",
            " Quote: “While record low sea ice is nothing new in the Arctic, this is a surprising turn of events for the Antarctic. Even as sea ice in the Arctic has seen a rapid and consistent decline over the past decade, its counterpart in the Southern Hemisphere has seen its extent increasing.”\n",
            " Label: 1_not_happening\n",
            "\n",
            " Quote: In the end, it’s the opinion of climatologists that matter in the global warming debate, and the polls clearly show that the experts are skeptical,\n",
            " Label: 6_proponents_biased\n",
            "\n",
            " Quote: I want to remind you what climate actually is. What kind of expertise [you need to study it]. If you want to study climate just because of carbon dioxide, I’m sorry, it’s still not enough to study only the atmosphere. You’ve got to know all of this bunch of stuff. This is part of the reason why the struggle for answer is so hard. We may never know the answer, but then we’ve got to keep trying and follow the scientific method, please.\n",
            " Label: 0_not_relevant\n",
            "\n",
            " Quote: The film Expelled: No Intelligence Allowed misappropriates the Holocaust and its imagery as a part of its political effort to discredit the scientific community which rejects so-called intelligent design theory,” the ADL statement read Hitler did not need Darwin to devise his heinous plan to exterminate the Jewish people and Darwin and evolutionary theory cannot explain Hitler’s genocidal madness Using the Holocaust in order to tarnish those who promote the theory of evolution is outrageous and trivializes the complex factors that led to the mass extermination of European Jewry.\n",
            " Label: 0_not_relevant\n",
            "\n",
            " Quote: Putting our hope in environmentalism is the latest innovation of the Devil to keep man from the love and grace of God. Should C.S. Lewis have written The Screwtape Letters today he would probably add ‘environmentalism’ to the list of Satan’s tricks. Planting trees is not part of the Gospel, even if man has always and rightly planted trees.\n",
            " Label: 6_proponents_biased\n",
            "\n",
            " Quote: Although alarmists frequently point to a modest recent shrinkage in the Arctic ice sheet , that decline has been completely offset by ice sheet expansion in the Antarctic . Cumulatively , polar ice sheets have not declined at all since NASA satellite instruments began precisely measuring them 35 years ago . Alarmist Assertion # 5\n",
            " Label: 1_not_happening\n",
            "\n",
            " Quote: It does not say this is the end of the scientific case for global warming but it does say that people at the centre of this research did some very bad science,\n",
            " Label: 5_science_unreliable\n",
            "\n",
            " Quote: Mars has a 95% concentration of CO2 in its atmosphere. It has almost no oxygen or nitrogen. According to environmental wackos the amount of CO2 in the atmosphere that play should be a tropical Paradise and yet it's a frozen wasteland. That's my point about global warming\n",
            " Label: 2_not_human\n",
            "\n",
            " Quote: For example, John Christy showed this figure, A not equal to B, and was asked by one of the physicists in the room, well, why? Why, Professor Christy, what’s going on? How do you explain this divergence in warming rates between the models and the observations? What’s going on there? And John Christy shrugged his shoulders and said, Mother Nature’s going to do what Mother Nature’s going to do.\n",
            " Label: 5_science_unreliable\n",
            "\n"
          ]
        }
      ],
      "source": [
        "from datasets import load_dataset\n",
        "from google.colab import userdata\n",
        "import random\n",
        "\n",
        "\n",
        "#### new comment\n",
        "\n",
        "# Load the Frugal AI Challenge dataset\n",
        "dataset = load_dataset(\"QuotaClimat/frugalaichallenge-text-train\")\n",
        "\n",
        "# Access the training split\n",
        "train_data = dataset[\"train\"]\n",
        "\n",
        "# Pick 10 random items\n",
        "sampled_items = random.sample(list(train_data), 10)\n",
        "\n",
        "# Print out a few samples to see the structure\n",
        "for item in sampled_items[:10]: #prints 10 samples\n",
        "    print(\" Quote:\", item[\"quote\"])\n",
        "    print(\" Label:\", item[\"label\"])\n",
        "    print()"
      ]
    },
    {
      "cell_type": "code",
      "source": [
        "import dspy\n",
        "\n",
        "\n",
        "class ClimateViewClassifier(dspy.Signature):\n",
        "    \"\"\"Classify a quote or claim about climate change using one of the following labels:\n",
        "\n",
        "    Not-Relevant: No relevant claim detected or claims that don't fit other categories\n",
        "\n",
        "    Not-Happening: Claims denying the occurrence of global warming and its effects - Global warming is not happening. Climate change is NOT leading to melting ice (such as glaciers, sea ice, and permafrost), increased extreme weather, or rising sea levels. Cold weather also shows that climate change is not happening\n",
        "\n",
        "    Not-Human: Claims denying human responsibility in climate change - Greenhouse gases from humans are not the causing climate change.\n",
        "\n",
        "    Not-Bad: Claims minimizing or denying negative impacts of climate change - The impacts of climate change will not be bad and might even be beneficial.\n",
        "\n",
        "    Solutions-Harmful-Unnecessary: Claims against climate solutions - Climate solutions are harmful or unnecessary\n",
        "\n",
        "    Science-is-Unreliable: Claims questioning climate science validity - Climate science is uncertain, unsound, unreliable, or biased.\n",
        "\n",
        "    Proponents-Biased: Claims attacking climate scientists and activists - Climate scientists and proponents of climate action are alarmist, biased, wrong, hypocritical, corrupt, and/or politically motivated.\n",
        "\n",
        "    Fossil-Fuels-Needed: Claims promoting fossil fuel necessity - We need fossil fuels for economic growth, prosperity, and to maintain our standard of living.\n",
        "    \"\"\"\n",
        "\n",
        "    quote = dspy.InputField(desc=\"Quote or claim about climate change\")\n",
        "    label = dspy.OutputField(\n",
        "        desc=\"Label of the quote\",\n",
        "        choices=[\"Not-Happening\",\"Not-Human\",\"Not-Bad\",\"Solutions-Harmful-Unnecessary\",\"Science-is-Unreliable\",\"Proponents-Biased\",\"Fossil-Fuels-Needed\"],\n",
        "    )\n",
        "\n",
        "# Initialize DSPy with an LLM (use default OpenAI if configured, or HF local)\n",
        "lm=dspy.LM(\"openai/gpt-4.1-mini\",api_key=userdata.get(\"openai-api-key\"))\n",
        "dspy.configure(lm=lm)\n",
        "\n",
        "# Instantiate classifier\n",
        "classifier = dspy.Predict(signature=ClimateViewClassifier)\n",
        "\n",
        "# Run predictions on our 30 samples\n",
        "for item in sampled_items:\n",
        "    quote = item[\"quote\"]\n",
        "    true_label = item[\"label\"]\n",
        "    pred = classifier(quote=quote)\n",
        "    print(\"Text:\", quote.replace(\"\\n\", \" \"))\n",
        "    print(\"True:\", true_label)\n",
        "    print(\"Pred:\", pred.label)\n",
        "    print(\"-\" * 40)\n"
      ],
      "metadata": {
        "colab": {
          "base_uri": "https://localhost:8080/"
        },
        "id": "fIMvD419dApf",
        "outputId": "0e8fbb5f-54f7-4c83-a608-ffcb8637d952"
      },
      "execution_count": 11,
      "outputs": [
        {
          "output_type": "stream",
          "name": "stdout",
          "text": [
            "Text: There is a lot of confusion in Asia about Alaska and the opportunities here, so we felt it was important to do this with BP and for us to be seen standing alongside each other. It’s an important way of demonstrating alignment,\n",
            "True: 0_not_relevant\n",
            "Pred: Not-Relevant\n",
            "----------------------------------------\n",
            "Text: “While record low sea ice is nothing new in the Arctic, this is a surprising turn of events for the Antarctic. Even as sea ice in the Arctic has seen a rapid and consistent decline over the past decade, its counterpart in the Southern Hemisphere has seen its extent increasing.”\n",
            "True: 1_not_happening\n",
            "Pred: Not-Happening\n",
            "----------------------------------------\n",
            "Text: In the end, it’s the opinion of climatologists that matter in the global warming debate, and the polls clearly show that the experts are skeptical,\n",
            "True: 6_proponents_biased\n",
            "Pred: Science-is-Unreliable\n",
            "----------------------------------------\n",
            "Text: I want to remind you what climate actually is. What kind of expertise [you need to study it]. If you want to study climate just because of carbon dioxide, I’m sorry, it’s still not enough to study only the atmosphere. You’ve got to know all of this bunch of stuff. This is part of the reason why the struggle for answer is so hard. We may never know the answer, but then we’ve got to keep trying and follow the scientific method, please.\n",
            "True: 0_not_relevant\n",
            "Pred: Science-is-Unreliable\n",
            "----------------------------------------\n",
            "Text: The film Expelled: No Intelligence Allowed misappropriates the Holocaust and its imagery as a part of its political effort to discredit the scientific community which rejects so-called intelligent design theory,” the ADL statement read Hitler did not need Darwin to devise his heinous plan to exterminate the Jewish people and Darwin and evolutionary theory cannot explain Hitler’s genocidal madness Using the Holocaust in order to tarnish those who promote the theory of evolution is outrageous and trivializes the complex factors that led to the mass extermination of European Jewry.\n",
            "True: 0_not_relevant\n",
            "Pred: Not-Relevant\n",
            "----------------------------------------\n",
            "Text: Putting our hope in environmentalism is the latest innovation of the Devil to keep man from the love and grace of God. Should C.S. Lewis have written The Screwtape Letters today he would probably add ‘environmentalism’ to the list of Satan’s tricks. Planting trees is not part of the Gospel, even if man has always and rightly planted trees.\n",
            "True: 6_proponents_biased\n",
            "Pred: Not-Relevant\n",
            "----------------------------------------\n",
            "Text: Although alarmists frequently point to a modest recent shrinkage in the Arctic ice sheet , that decline has been completely offset by ice sheet expansion in the Antarctic . Cumulatively , polar ice sheets have not declined at all since NASA satellite instruments began precisely measuring them 35 years ago . Alarmist Assertion # 5\n",
            "True: 1_not_happening\n",
            "Pred: Not-Happening\n",
            "----------------------------------------\n",
            "Text: It does not say this is the end of the scientific case for global warming but it does say that people at the centre of this research did some very bad science,\n",
            "True: 5_science_unreliable\n",
            "Pred: Proponents-Biased\n",
            "----------------------------------------\n",
            "Text: Mars has a 95% concentration of CO2 in its atmosphere. It has almost no oxygen or nitrogen. According to environmental wackos the amount of CO2 in the atmosphere that play should be a tropical Paradise and yet it's a frozen wasteland. That's my point about global warming\n",
            "True: 2_not_human\n",
            "Pred: Not-Human\n",
            "----------------------------------------\n",
            "Text: For example, John Christy showed this figure, A not equal to B, and was asked by one of the physicists in the room, well, why? Why, Professor Christy, what’s going on? How do you explain this divergence in warming rates between the models and the observations? What’s going on there? And John Christy shrugged his shoulders and said, Mother Nature’s going to do what Mother Nature’s going to do.\n",
            "True: 5_science_unreliable\n",
            "Pred: Science-is-Unreliable\n",
            "----------------------------------------\n"
          ]
        }
      ]
    },
    {
      "cell_type": "markdown",
      "source": [
        "# Follow-up task(s)\n",
        "\n",
        "1.   Is the model accurate?\n",
        "1.   Is the model wrong, when it disagrees with the dataset annotation?\n",
        "2.   Think of any other classification schema of these claims, and try to modify the DSPy code to make it happen - did it work?\n"
      ],
      "metadata": {
        "id": "v98b23ceSjvk"
      }
    }
  ]
}