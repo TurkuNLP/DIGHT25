{
  "nbformat": 4,
  "nbformat_minor": 0,
  "metadata": {
    "colab": {
      "provenance": [],
      "authorship_tag": "ABX9TyMAJ9jdIEDdYVnShzEWD6nB",
      "include_colab_link": true
    },
    "kernelspec": {
      "name": "python3",
      "display_name": "Python 3"
    },
    "language_info": {
      "name": "python"
    }
  },
  "cells": [
    {
      "cell_type": "markdown",
      "metadata": {
        "id": "view-in-github",
        "colab_type": "text"
      },
      "source": [
        "<a href=\"https://colab.research.google.com/github/TurkuNLP/DIGHT25/blob/main/03_summaries.ipynb\" target=\"_parent\"><img src=\"https://colab.research.google.com/assets/colab-badge.svg\" alt=\"Open In Colab\"/></a>"
      ]
    },
    {
      "cell_type": "markdown",
      "source": [
        "# DSPy tutorial part 3\n",
        "\n",
        "* Works with historical news from the HMD project (Heritage Made Digital)\n",
        "* I had to pre-prepare a small sample because the dataset is massive\n"
      ],
      "metadata": {
        "id": "58ztr0e3Sn8L"
      }
    },
    {
      "cell_type": "code",
      "source": [
        "!pip3 install -q dspy\n",
        "!wget https://github.com/TurkuNLP/DIGHT25/raw/refs/heads/main/hmd_newspapers_texts.json"
      ],
      "metadata": {
        "id": "1dEwYB33TR2b",
        "outputId": "e7cadb43-bda4-4c79-b2b8-07d1d6d14618",
        "colab": {
          "base_uri": "https://localhost:8080/"
        }
      },
      "execution_count": 7,
      "outputs": [
        {
          "output_type": "stream",
          "name": "stdout",
          "text": [
            "--2025-08-27 16:17:36--  https://github.com/TurkuNLP/DIGHT25/raw/refs/heads/main/hmd_newspapers_texts.json\n",
            "Resolving github.com (github.com)... 140.82.116.3\n",
            "Connecting to github.com (github.com)|140.82.116.3|:443... connected.\n",
            "HTTP request sent, awaiting response... 302 Found\n",
            "Location: https://raw.githubusercontent.com/TurkuNLP/DIGHT25/refs/heads/main/hmd_newspapers_texts.json [following]\n",
            "--2025-08-27 16:17:36--  https://raw.githubusercontent.com/TurkuNLP/DIGHT25/refs/heads/main/hmd_newspapers_texts.json\n",
            "Resolving raw.githubusercontent.com (raw.githubusercontent.com)... 185.199.111.133, 185.199.110.133, 185.199.109.133, ...\n",
            "Connecting to raw.githubusercontent.com (raw.githubusercontent.com)|185.199.111.133|:443... connected.\n",
            "HTTP request sent, awaiting response... 200 OK\n",
            "Length: 785985 (768K) [text/plain]\n",
            "Saving to: ‘hmd_newspapers_texts.json.3’\n",
            "\n",
            "hmd_newspapers_text 100%[===================>] 767.56K  --.-KB/s    in 0.04s   \n",
            "\n",
            "2025-08-27 16:17:36 (20.7 MB/s) - ‘hmd_newspapers_texts.json.3’ saved [785985/785985]\n",
            "\n"
          ]
        }
      ]
    },
    {
      "cell_type": "code",
      "execution_count": 8,
      "metadata": {
        "id": "t5SWazp9hsfe"
      },
      "outputs": [],
      "source": [
        "from google.colab import userdata\n",
        "import json, dspy\n",
        "import pandas as pd\n",
        "import random\n",
        "\n",
        "INPUT_JSON = \"hmd_newspapers_texts.json\"\n",
        "OUTPUT_XLSX = \"news_topics_summary.xlsx\"\n",
        "\n",
        "# --- DSPy signature (class-based), no module class ---\n",
        "class TopicAndSummary(dspy.Signature):\n",
        "    \"\"\"Read a historical news snippet and return:\n",
        "    - topics: up to 3 concise topics (1–3 words each), comma-separated\n",
        "    - summary: a brief, neutral summary (1–2 sentences)\n",
        "    Example topics: crime, politics, war, economy, agriculture, culture, religion, science, health, local news.\n",
        "    \"\"\"\n",
        "    text = dspy.InputField(desc=\"Historical news\")\n",
        "    topics = dspy.OutputField(desc=\"Comma-separated topics (≤3)\")\n",
        "    summary = dspy.OutputField(desc=\"Brief summary (1–2 sentences)\")\n",
        "\n",
        "# --- configure DSPy (adjust model / API as you use elsewhere) ---\n",
        "lm = dspy.LM(\"openai/gpt-4.1-mini\", api_key=userdata.get(\"openai-api-key\"))\n",
        "dspy.configure(lm=lm)\n",
        "predict = dspy.Predict(signature=TopicAndSummary)\n",
        "\n",
        "# --- load & cut down ---\n",
        "with open(INPUT_JSON, encoding=\"utf-8\") as f:\n",
        "    texts = json.load(f)\n",
        "random.shuffle(texts)\n",
        "texts = texts[:15]  # small subset for the demo/class\n",
        "\n"
      ]
    },
    {
      "cell_type": "code",
      "source": [
        "# --- run extraction ---\n",
        "rows = []\n",
        "for i, t in enumerate(texts, 1):\n",
        "    out = predict(text=t)\n",
        "    topics = out.topics.strip()\n",
        "    summary = out.summary.strip()\n",
        "\n",
        "    # print to console (compact)\n",
        "    print(f\"--- {i} ---\")\n",
        "    preview = t[:200].replace(\"\\n\", \" \")\n",
        "    print(\"TEXT:\", preview + (\"...\" if len(t) > 200 else \"\"))\n",
        "    print(\"TOPICS:\", topics)\n",
        "    print(\"SUMMARY:\", summary)\n",
        "    print()\n",
        "\n",
        "    rows.append({\"text\": t, \"topics\": topics, \"summary\": summary})\n",
        "\n",
        "# --- write Excel (text, topics, summary) ---\n",
        "df = pd.DataFrame(rows, columns=[\"text\", \"topics\", \"summary\"])\n",
        "# If openpyxl/xlsxwriter is installed, this will just work. Otherwise install one.\n",
        "df.to_excel(OUTPUT_XLSX, index=False)\n",
        "\n",
        "print(f\"Wrote {len(df)} rows to {OUTPUT_XLSX}\")"
      ],
      "metadata": {
        "id": "JcnM8RCWUWVZ",
        "outputId": "a0bd1ed1-7ad0-4e9d-b4fa-ffcd154d0868",
        "colab": {
          "base_uri": "https://localhost:8080/"
        }
      },
      "execution_count": 9,
      "outputs": [
        {
          "output_type": "stream",
          "name": "stdout",
          "text": [
            "--- 1 ---\n",
            "TEXT: BONNETS ! BONNETS ! !  MR. GEORGE JONES has ready for INSPEC- TION all the New Styles in SILK, SATIN, VELVET, CRAPE, STRAW, and FANCY BONNETS, at very Moderate Prices. 55 and 57, GREAT CHARLOTTE-STREE...\n",
            "TOPICS: fashion, retail, millinery\n",
            "SUMMARY: Several merchants in Liverpool announce the arrival of new styles in bonnets, millinery, and dressmaking for the winter season of 1855, offering a variety of materials and Parisian fashions at moderate prices.\n",
            "\n",
            "--- 2 ---\n",
            "TEXT: CASTLE-STREET WARD,  This ward, which has always been considered \"safe\" by the Radicals, has been most unexpectedly wrested from them this year, the election having ousted Mr. Avison, the retiring mem...\n",
            "TOPICS: local election, politics, municipal government\n",
            "SUMMARY: In Castle-Street Ward, traditionally a Radical stronghold, the Conservative candidate Mr. J. G. Livingston won the election, defeating the retiring Radical member Mr. Avison by 48 votes. Mr. Livingston expressed gratitude to his supporters and acknowledged the ward's historical Radical representation since 1835.\n",
            "\n",
            "--- 3 ---\n",
            "TEXT: 'To be 3bolli o let.  TO be SOLD, much below its value, a Fine-toned CHURCH ORGAN.—AppIy to \" Clericna,\" at the Office of this Paper.  TO be SOLD, by PRIVATE TREATY, a splendid modern-built MANSION, w...\n",
            "TOPICS: real estate, sales, rentals\n",
            "SUMMARY: The advertisement lists various properties for sale and rent, including a mansion with extensive land and game in Ayrshire, family houses in multiple locations, and a brewery near Liverpool, with contact details provided for interested parties.\n",
            "\n",
            "--- 4 ---\n",
            "TEXT: BRIGHT, SON, and LEGGE respectfully an- nounce, that they are prepared to SHOW their usual Variety of NOVELTIES in MANTLES for the Season. 70, 72, and 74, BOLD-STREET. October 8, 1855.  BALLS AND EVEN...\n",
            "TOPICS: retail, fashion, music\n",
            "SUMMARY: Several Liverpool businesses in 1855 advertise their goods, including mantles and fashion accessories, music and musical instruments at reduced prices due to relocation, and electroplated goods along with jewelry and watches. These announcements highlight seasonal novelties and sales in various retail sectors.\n",
            "\n",
            "--- 5 ---\n",
            "TEXT: THE CRIMEA.  The Inralide also publishes the following telegraphic despatch from Prince Gortschakoff : Yesterday the enemy again made a strong demonstration from the side of Eupatoria, with 30 squadro...\n",
            "TOPICS: Crimean War, military movements, British generals\n",
            "SUMMARY: The report details military engagements near Eupatoria and Saki during the Crimean War, noting enemy advances and retreats. It also mentions the resignation of senior British generals due to command disputes, with some returning home for personal or professional reasons.\n",
            "\n",
            "--- 6 ---\n",
            "TEXT: RANKIN'S NEW PATENT SMUT MACHINE AND CORN SCREEN is a great improvement, having a simultaneous double action upon the Grain, extracting sand seeds and light matter in one process; also, an Improved Se...\n",
            "TOPICS: technology, machinery, manufacturing\n",
            "SUMMARY: Rankin's new patent introduces an improved smut machine and corn screen that efficiently cleans grain by removing impurities in one process, along with advanced bone mills that grind bones more effectively using less power. These innovations are produced by A and J Rankin at the Union Foundry in Liverpool.\n",
            "\n",
            "--- 7 ---\n",
            "TEXT: DISPLAY OF  FASHIONABLE PARIS MILLINERY, BONNETS, CAPS, COIFFURES, FLOWERS, FEATHERS, &c. JEFFERY, MORRISH, and Co. have the honour to announce to their numerous patrons, that their MILLINER has just ...\n",
            "TOPICS: fashion, retail, accessories\n",
            "SUMMARY: Jeffery, Morrish, and Co. announce a new display of fashionable Parisian millinery, including bonnets, caps, and accessories, available from October 25th at Compton House. Additionally, Samuel Quilliam offers high-quality chronometers and watches at 22 Elliot Street.\n",
            "\n",
            "--- 8 ---\n",
            "TEXT: THE LATE CHANCELLOR RAIKES.—At a Meeting of the Committee for managing the Fund raised for providing a SCHOLARSHIP in the Training College, in memory of the late Chancellor Raikes, held in the Chapter...\n",
            "TOPICS: education, memorial, fundraising\n",
            "SUMMARY: A committee meeting was held to finalize the fundraising for a scholarship in memory of the late Chancellor Raikes, with a deadline set for subscriptions by the end of July 1853, after which the funds will be invested for the scholarship's purpose.\n",
            "\n",
            "--- 9 ---\n",
            "TEXT: MORE RUSSIAN PREPARATIONS.  Writing with respect to the new preparations of the Russians, a correspondent of the same journal, on the 25th,- says : The night before last, I am informed, a party of our...\n",
            "TOPICS: war, military fortifications, Russia\n",
            "SUMMARY: Russian forces are strengthening their defensive positions by constructing a star battery near the Malakhoff and possibly reinforcing the area behind the Redan, which will complicate Allied efforts to capture these strategic points. The Allies plan to focus their next combined attack on the Malakhoff, aiming to apply more effective tactics than before.\n",
            "\n",
            "--- 10 ---\n",
            "TEXT: EMENT TO THE LIVERPOOL STAN:  size (and roughly reduced to a globular shape, which have doubtless been intended to be used as ammunition for the ballistm The chief value of the inscription, however, c...\n",
            "TOPICS: archaeology, Roman Britain, inscriptions\n",
            "SUMMARY: Excavations near the Liverpool Stan have uncovered inscriptions linked to Claudius Paulinus, a Roman proprietor in Britain, along with fragments of glass, pottery, and evidence of ancient British fortifications. These findings highlight historical connections between Roman Britain and other provinces, enriching understanding of Roman military and governance presence in the region.\n",
            "\n",
            "--- 11 ---\n",
            "TEXT: CERTIFICATES  Oct. 24, W. Backhouse, Lathom, Lancashire, timber dealer.— Oct. 24, L. Ahlborn, Liverpool, toy dealer.—Oct. 23, H. H. Ross, Liverpool, draper. SCOTCH SEQUESTRATIONS.  J, Robertson, Glasg...\n",
            "TOPICS: bankruptcy, business, partnerships\n",
            "SUMMARY: The news lists various individuals and businesses involved in bankruptcy, sequestrations, and partnership dissolutions across different trades and locations in the UK during October 1855. It highlights the financial difficulties faced by merchants, manufacturers, and dealers in that period.\n",
            "\n",
            "--- 12 ---\n",
            "TEXT: For DUBLIN.  The Company will sail the IRON DUKE, TRAFALGAR, WINDSOR, or other of their first-class Steamers, MONDAY, WEDNESDAY, and FRIDAY Evenings, at 7 15 p.m., from the Prince's Pierhead, LIVERPOO...\n",
            "TOPICS: transportation, shipping, schedules\n",
            "SUMMARY: The City of Dublin Company announces the sailing schedules for passenger steamers and cargo vessels between Liverpool, Dublin, Belfast, and other ports, detailing departure times and contact information for shipping arrangements. Seasonal changes to the sailing timetable are also noted.\n",
            "\n",
            "--- 13 ---\n",
            "TEXT: CIGARROS FABRICA DE HABANA. • mESSRS. ESTERO AND COMPANY, 41, NORTH JOHN-STREET,  NEAR LORD-STREET, LIVERPOOL, Have been induced to Open the above Establishment for the Sale of FOREIGN CIGARS only, an...\n",
            "TOPICS: commerce, cigars, retail\n",
            "SUMMARY: Estero and Company in Liverpool have opened a new establishment selling genuine Havana cigars in convenient quantities for private consumers and businesses, offering various flavors and competitive prices. Additionally, the Liverpool Furnishing Ironmongery Warehouse advertises a large assortment of fenders and fire-irons.\n",
            "\n",
            "--- 14 ---\n",
            "TEXT: NEW BRIGHTON COLLEGE AND PREPARATORY SCHOOL. The Pupils of this Institution will RE-ASSEMBLE (DX.) on the tat of August next. Prospectuses may be had on application to the Rev. Dr. Poem, New Brighton ...\n",
            "TOPICS: education, schools, theology\n",
            "SUMMARY: New Brighton College and Preparatory School will reopen in August, with prospectuses available from the Rev. Dr. Poem. St. Aidan's Theological College in Birkenhead, under the patronage of the Archbishop of Canterbury and led by Rev. Joseph Baylee, will begin its Michaelmas term on September 28, with lectures starting the following Monday.\n",
            "\n",
            "--- 15 ---\n",
            "TEXT: A SNOW-STORM- IN YARROW---A CALM  (From Professor Wilson's \" Nodes Ambrosia;ue,\" Vol. I)  SHEPHERD : I'se tell you, and judge for yoursel. At four in the mornin, it was that hard frost that the dubs w...\n",
            "TOPICS: weather, storm, nature\n",
            "SUMMARY: The passage describes a sudden and intense snowstorm in Yarrow, followed by rain and a dramatic thunderstorm with vivid lightning and thunder, creating a powerful natural spectacle. The shepherd recounts the harsh frost, the storm's progression, and the reaction of animals to the fierce weather.\n",
            "\n",
            "Wrote 15 rows to news_topics_summary.xlsx\n"
          ]
        }
      ]
    }
  ]
}