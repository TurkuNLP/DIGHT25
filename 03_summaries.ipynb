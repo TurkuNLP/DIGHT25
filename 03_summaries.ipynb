{
  "nbformat": 4,
  "nbformat_minor": 0,
  "metadata": {
    "colab": {
      "provenance": [],
      "authorship_tag": "ABX9TyP72l4JZZZpTW2HVeb2xJ8W",
      "include_colab_link": true
    },
    "kernelspec": {
      "name": "python3",
      "display_name": "Python 3"
    },
    "language_info": {
      "name": "python"
    }
  },
  "cells": [
    {
      "cell_type": "markdown",
      "metadata": {
        "id": "view-in-github",
        "colab_type": "text"
      },
      "source": [
        "<a href=\"https://colab.research.google.com/github/TurkuNLP/DIGHT25/blob/main/03_summaries.ipynb\" target=\"_parent\"><img src=\"https://colab.research.google.com/assets/colab-badge.svg\" alt=\"Open In Colab\"/></a>"
      ]
    },
    {
      "cell_type": "markdown",
      "source": [
        "# DSPy tutorial part 3\n",
        "\n",
        "* Works with historical news from the HMD project (Heritage Made Digital)\n",
        "* I had to pre-prepare a small sample because the dataset is massive\n",
        "* Here we try multiple outputs\n"
      ],
      "metadata": {
        "id": "58ztr0e3Sn8L"
      }
    },
    {
      "cell_type": "code",
      "source": [
        "!pip3 install -q dspy\n",
        "!wget https://github.com/TurkuNLP/DIGHT25/raw/refs/heads/main/hmd_newspapers_texts.json\n",
        "\n",
        "#Get the API key\n",
        "!wget -O api-key.txt http://epsilon-it.utu.fi/dight-api-key-1.txt\n",
        "api_key=open(\"api-key.txt\").read().strip()\n",
        "\n",
        "#Backup option:\n",
        "#api_key=\"sk_....\""
      ],
      "metadata": {
        "colab": {
          "base_uri": "https://localhost:8080/"
        },
        "id": "1dEwYB33TR2b",
        "outputId": "485a3a1f-383d-4a36-f048-9048ab513512"
      },
      "execution_count": 1,
      "outputs": [
        {
          "output_type": "stream",
          "name": "stdout",
          "text": [
            "\u001b[2K     \u001b[90m━━━━━━━━━━━━━━━━━━━━━━━━━━━━━━━━━━━━━━━━\u001b[0m \u001b[32m41.2/41.2 kB\u001b[0m \u001b[31m1.5 MB/s\u001b[0m eta \u001b[36m0:00:00\u001b[0m\n",
            "\u001b[2K   \u001b[90m━━━━━━━━━━━━━━━━━━━━━━━━━━━━━━━━━━━━━━━━\u001b[0m \u001b[32m260.1/260.1 kB\u001b[0m \u001b[31m7.0 MB/s\u001b[0m eta \u001b[36m0:00:00\u001b[0m\n",
            "\u001b[2K   \u001b[90m━━━━━━━━━━━━━━━━━━━━━━━━━━━━━━━━━━━━━━━━\u001b[0m \u001b[32m45.5/45.5 kB\u001b[0m \u001b[31m2.2 MB/s\u001b[0m eta \u001b[36m0:00:00\u001b[0m\n",
            "\u001b[2K   \u001b[90m━━━━━━━━━━━━━━━━━━━━━━━━━━━━━━━━━━━━━━━━\u001b[0m \u001b[32m9.0/9.0 MB\u001b[0m \u001b[31m79.0 MB/s\u001b[0m eta \u001b[36m0:00:00\u001b[0m\n",
            "\u001b[2K   \u001b[90m━━━━━━━━━━━━━━━━━━━━━━━━━━━━━━━━━━━━━━━━\u001b[0m \u001b[32m400.9/400.9 kB\u001b[0m \u001b[31m22.0 MB/s\u001b[0m eta \u001b[36m0:00:00\u001b[0m\n",
            "\u001b[2K   \u001b[90m━━━━━━━━━━━━━━━━━━━━━━━━━━━━━━━━━━━━━━━━\u001b[0m \u001b[32m57.4/57.4 kB\u001b[0m \u001b[31m4.1 MB/s\u001b[0m eta \u001b[36m0:00:00\u001b[0m\n",
            "\u001b[2K   \u001b[90m━━━━━━━━━━━━━━━━━━━━━━━━━━━━━━━━━━━━━━━━\u001b[0m \u001b[32m247.4/247.4 kB\u001b[0m \u001b[31m14.3 MB/s\u001b[0m eta \u001b[36m0:00:00\u001b[0m\n",
            "\u001b[?25h--2025-08-28 08:05:39--  https://github.com/TurkuNLP/DIGHT25/raw/refs/heads/main/hmd_newspapers_texts.json\n",
            "Resolving github.com (github.com)... 140.82.114.4\n",
            "Connecting to github.com (github.com)|140.82.114.4|:443... connected.\n",
            "HTTP request sent, awaiting response... 302 Found\n",
            "Location: https://raw.githubusercontent.com/TurkuNLP/DIGHT25/refs/heads/main/hmd_newspapers_texts.json [following]\n",
            "--2025-08-28 08:05:39--  https://raw.githubusercontent.com/TurkuNLP/DIGHT25/refs/heads/main/hmd_newspapers_texts.json\n",
            "Resolving raw.githubusercontent.com (raw.githubusercontent.com)... 185.199.108.133, 185.199.109.133, 185.199.110.133, ...\n",
            "Connecting to raw.githubusercontent.com (raw.githubusercontent.com)|185.199.108.133|:443... connected.\n",
            "HTTP request sent, awaiting response... 200 OK\n",
            "Length: 785985 (768K) [text/plain]\n",
            "Saving to: ‘hmd_newspapers_texts.json’\n",
            "\n",
            "hmd_newspapers_text 100%[===================>] 767.56K  --.-KB/s    in 0.06s   \n",
            "\n",
            "2025-08-28 08:05:39 (13.6 MB/s) - ‘hmd_newspapers_texts.json’ saved [785985/785985]\n",
            "\n",
            "--2025-08-28 08:05:39--  http://epsilon-it.utu.fi/dight-api-key-1.txt\n",
            "Resolving epsilon-it.utu.fi (epsilon-it.utu.fi)... 130.232.253.13\n",
            "Connecting to epsilon-it.utu.fi (epsilon-it.utu.fi)|130.232.253.13|:80... connected.\n",
            "HTTP request sent, awaiting response... 200 OK\n",
            "Length: 165 [text/plain]\n",
            "Saving to: ‘api-key.txt’\n",
            "\n",
            "api-key.txt         100%[===================>]     165  --.-KB/s    in 0s      \n",
            "\n",
            "2025-08-28 08:05:40 (21.8 MB/s) - ‘api-key.txt’ saved [165/165]\n",
            "\n"
          ]
        }
      ]
    },
    {
      "cell_type": "code",
      "execution_count": 2,
      "metadata": {
        "id": "t5SWazp9hsfe"
      },
      "outputs": [],
      "source": [
        "from google.colab import userdata\n",
        "import json, dspy\n",
        "import pandas as pd\n",
        "import random\n",
        "\n",
        "INPUT_JSON = \"hmd_newspapers_texts.json\"\n",
        "OUTPUT_XLSX = \"news_topics_summary.xlsx\"\n",
        "\n",
        "# --- DSPy signature (class-based), no module class ---\n",
        "class TopicAndSummary(dspy.Signature):\n",
        "    \"\"\"Read a historical news snippet and return:\n",
        "    - topics: up to 3 concise topics (1–3 words each), comma-separated\n",
        "    - summary: a brief, neutral summary (1–2 sentences)\n",
        "    Example topics: crime, politics, war, economy, agriculture, culture, religion, science, health, local news.\n",
        "    \"\"\"\n",
        "    text = dspy.InputField(desc=\"Historical news\")\n",
        "    topics = dspy.OutputField(desc=\"Comma-separated topics (≤3)\")\n",
        "    summary = dspy.OutputField(desc=\"Brief summary (1–2 sentences)\")\n",
        "\n",
        "# --- configure DSPy (adjust model / API as you use elsewhere) ---\n",
        "lm = dspy.LM(\"openai/gpt-4.1-mini\", api_key=api_key)\n",
        "dspy.configure(lm=lm)\n",
        "predict = dspy.Predict(signature=TopicAndSummary)\n",
        "\n",
        "# --- load & cut down ---\n",
        "with open(INPUT_JSON, encoding=\"utf-8\") as f:\n",
        "    texts = json.load(f)\n",
        "random.shuffle(texts)\n",
        "texts = texts[:15]  # small subset for the demo/class\n",
        "\n"
      ]
    },
    {
      "cell_type": "code",
      "source": [
        "# --- run extraction ---\n",
        "rows = []\n",
        "for i, t in enumerate(texts, 1):\n",
        "    out = predict(text=t)\n",
        "    topics = out.topics.strip()\n",
        "    summary = out.summary.strip()\n",
        "\n",
        "    # print to console (compact)\n",
        "    print(f\"--- {i} ---\")\n",
        "    preview = t[:200].replace(\"\\n\", \" \")\n",
        "    print(\"TEXT:\", preview + (\"...\" if len(t) > 200 else \"\"))\n",
        "    print(\"TOPICS:\", topics)\n",
        "    print(\"SUMMARY:\", summary)\n",
        "    print()\n",
        "\n",
        "    rows.append({\"text\": t, \"topics\": topics, \"summary\": summary})\n",
        "\n",
        "# --- write Excel (text, topics, summary) ---\n",
        "df = pd.DataFrame(rows, columns=[\"text\", \"topics\", \"summary\"])\n",
        "# If openpyxl/xlsxwriter is installed, this will just work. Otherwise install one.\n",
        "df.to_excel(OUTPUT_XLSX, index=False)\n",
        "\n",
        "print(f\"Wrote {len(df)} rows to {OUTPUT_XLSX}\")"
      ],
      "metadata": {
        "colab": {
          "base_uri": "https://localhost:8080/"
        },
        "id": "JcnM8RCWUWVZ",
        "outputId": "7b52aad7-2f6a-4164-b714-771228f83096"
      },
      "execution_count": 3,
      "outputs": [
        {
          "output_type": "stream",
          "name": "stdout",
          "text": [
            "--- 1 ---\n",
            "TEXT: DOCK COMMITTEE.  The proceedings of this committee were read, awl, after some discussion, on the motion of Mr. C. TURNER, confirmed.  COURTS LAW AED ST. GEORGE'S HALL COMMTTTRE.  The minutes of this c...\n",
            "TOPICS: local government, public facilities, health committee\n",
            "SUMMARY: The Dock Committee's proceedings were confirmed after discussion, and the Courts Law and St. George's Hall Committee resolved to open the hall daily to the public with a new organist appointed. The Council expressed concerns about the eastern approach's condition but confirmed the proceedings of the Markets and Health Committees despite some debate.\n",
            "\n",
            "--- 2 ---\n",
            "TEXT: COMPLETION OF ALTERATIONS. WATERPROOF, AIRPROOF, INDIARUBBER, AND GIJTTA PERCHA DEPOT, 2 and 3, QUADRANT-BUILDINGS, LIME-STREET. HELLEWELL, in announcing the completion S • of the extensive Alteration...\n",
            "TOPICS: commerce, manufacturing, health\n",
            "SUMMARY: Hellwell announces the completion of extensive alterations at their waterproof, airproof, indiarubber, and gutta percha depot in Liverpool, offering a new and extensive stock of waterproof garments, vulcanized rubber goods, air beds, cushions, and related products for various uses including medical and gardening. The business serves wholesale, retail, and export markets with competitive pricing.\n",
            "\n",
            "--- 3 ---\n",
            "TEXT: SIR E. B. LYTTON'S MOTION.  Sir E. B. LYTTOY then rose and said that, in bringing for- ward his resolution he hoped the house would be as indulgent to him as they had been to the noble lord, placed as...\n",
            "TOPICS: politics, government, war\n",
            "SUMMARY: Sir E. B. Lytton criticized the government's internal divisions and questioned the necessity of a war advocated by a government member, highlighting conflicting opinions within the cabinet. The motion he brought forward was ultimately withdrawn after achieving its objectives, with further remarks addressing personal loyalties within the government.\n",
            "\n",
            "--- 4 ---\n",
            "TEXT: SHIPPING NEWS.  Tforr Rio Grande— ell, Pernambuco e re „ TUESDAY, AUGUST:- 7.—Wind S.S.W. to W., fresh. aria —Emily St. Pierre, Tessier, Charleston Pioneer, Monteath Grande— Catherine, [eRI Rr DipinSk...\n",
            "TOPICS: shipping, maritime incidents, trade routes\n",
            "SUMMARY: The shipping news reports various vessels' departures, arrivals, and cargo details across global ports, including a Norway ship Brotherton that lost its rudder and was assisted near Cape Clear. The report highlights maritime activity and incidents from multiple locations such as Rio Grande, Salem, Smyrna, and Queenstown.\n",
            "\n",
            "--- 5 ---\n",
            "TEXT: Vublit Notirr.  CHORLEY WATERWORKS (SALE AND TRANSFER OF UNDERTAKING TO CORPORA- TION OF LIVERPOOL; ALTERATION OF RATES; AMENDMENT OR REPEAL OF ACTS). NOTICE IS-HEREBY GIVEN, that application is inten...\n",
            "TOPICS: waterworks, legislation, local government\n",
            "SUMMARY: An application is planned to be made to Parliament for an Act to transfer the Chorley Waterworks Company to the Liverpool Corporation, including changes to water rates and amendments to existing waterworks legislation. The Act also proposes to dissolve the company if necessary and adjust related powers under previous waterworks Acts.\n",
            "\n",
            "--- 6 ---\n",
            "TEXT: ROYAL BANK BUILDINGS,  LIVERPOOL, Nov. 12, 1855.  We beg to announce to our numerous Customers  that several Cargoes of the New Season's Tea are  arrived, and we have commenced selling the same  —with...\n",
            "TOPICS: trade, labor dispute, agriculture\n",
            "SUMMARY: The Royal Bank Buildings in Liverpool announced the arrival of new season's tea with no price increase, highlighting superior quality imports. Additionally, a legal dispute arose involving seamen claiming unpaid wages after volunteering to transfer ships, and farmers were offered a way to dispose of diseased potatoes through local carriers.\n",
            "\n",
            "--- 7 ---\n",
            "TEXT: A.D. 1720.  ROYAL EXCHANGE ASSURANCE CORPORATION, (Established by Charter of his Majesty George the First.) FOR SEA, FIRE. LIFE, AND ANNUITIES  OFFICES, ROYAL EXCHANGE, LONDON.  OCTAVIUS WIORAM, Esq.,...\n",
            "TOPICS: insurance, corporate governance, 18th century\n",
            "SUMMARY: The Royal Exchange Assurance Corporation, established by King George I in 1720, is an insurance company offering sea, fire, life, and annuities coverage, with a detailed list of its governors, directors, and medical referee. The corporation's offices are located in the Royal Exchange, London.\n",
            "\n",
            "--- 8 ---\n",
            "TEXT: Vilniteb gz)tattS.  THE LIVERPOOL AND PHILADELPHIA STEAM-SHIP COMPANY'S • , • ':tt Iron Screw Steam-ships 51:4,4, --Tons. CITY OF BALTIMORE 2367.... Capt. ROBT. LEITCH. CITY OF WASHINGTON 2359.... Cap...\n",
            "TOPICS: steamships, transportation, transatlantic travel\n",
            "SUMMARY: The Liverpool and Philadelphia Steam-Ship Company advertises its iron screw steamships offering passage and freight services between Liverpool and Philadelphia, with detailed rates, schedules, and contact information. Additional steamship routes between Liverpool and other ports such as Havre and Belfast are also provided, highlighting the company's extensive steam communication network.\n",
            "\n",
            "--- 9 ---\n",
            "TEXT: ON NERVOUS-EXCITEMENT, DEBILITY, &c. A Medical Work, Illustrated with Forty-five Coloured Engravings. and containing the Recipe for the Author's  NEWLY-DISCOVERED LOTION  Just Published, the 71st Thou...\n",
            "TOPICS: health, nervous debility, medical treatment\n",
            "SUMMARY: The text advertises a medical book by J. L. Curtis that addresses nervous excitement and debility, offering a newly discovered lotion and treatment methods for restoring health and vigor. The book has been well-reviewed and is available for purchase across the United Kingdom and British territories.\n",
            "\n",
            "--- 10 ---\n",
            "TEXT: NEW AUTUMN DRESSES. NEW AUTUMN SILKS,  W FANCY DRESSES. HARRISON BROTHERS bare now on hand a choice AssprtMent of NEW FANCY DRESSES for the Autumn Trade, from 10s. 9d. upwards. THE NEW TCHERNAYA ROBE,...\n",
            "TOPICS: fashion, retail, furniture\n",
            "SUMMARY: The advertisement highlights new autumn dresses and silks available at Harrison Brothers, along with a special Tchernaya robe exclusive to their store. Additionally, Bucknall and Son promote fashionable and useful items for the season, while H. R. Wignall offers a variety of affordable bedsteads and bedding materials.\n",
            "\n",
            "--- 11 ---\n",
            "TEXT: MORRISH'S MERCHANTS' DINING ROOMS, LANCASTER-BUI LDINGS, TITHEBARN-STREET, LIVERPOOL, Present advantages to Gentlemen Dining In Town, and Visitors to this Port, unsurpassed by any Establishment in the...\n",
            "TOPICS: local news, dining, hospitality\n",
            "SUMMARY: Morrish's Merchants' Dining Rooms in Liverpool offers extensive dining options including breakfast, lunch, dinner, and tea, with private rooms and a well-ventilated smoking room featuring newspapers and games. The establishment caters to gentlemen and visitors with a variety of meals and amenities.\n",
            "\n",
            "--- 12 ---\n",
            "TEXT: JtIVE  ENOVEMI3O 6) tpllwit: finguished by soi(le sr, ilifge, pule particular I to, eetri own part, I 115e1,0' (4, uch above roe, \". '' 4' T ' A bet ak 4 . Pope, as if I 113;//, , I.r I —Lord ChesteVi...\n",
            "TOPICS: local news, health, society\n",
            "SUMMARY: The snippet appears to describe a social visit involving a lady who suddenly falls ill, prompting concern and a call for a doctor. The narrative includes reactions from those present, highlighting the urgency and social dynamics of the situation.\n",
            "\n",
            "--- 13 ---\n",
            "TEXT: Iretanb.  STEAM COMMUNICATION BETWEEN LIVERPOOL AND SLIGO. The splendid and powerful Steam-ships . , -vw, - NI: \\, SHAMROCK Capt. STEWART, or • 4411.1 AW ROSE Capt. M‘DAIRMAID, :- '-''.-.' - are inten...\n",
            "TOPICS: steamships, maritime transport, transatlantic travel\n",
            "SUMMARY: The announcement details steamship services between Liverpool and Sligo, as well as a schedule of first-class packet ships sailing from Liverpool to New York, highlighting the ships' capacities, captains, and passenger accommodations. Freight rates and provisions for passengers are also mentioned.\n",
            "\n",
            "--- 14 ---\n",
            "TEXT: DEAFNESS, DISTRESSING NOISES IN THE BEAD.—Just published, GRATIS, for the PROTEC I'ION of the DEAF.7---Truly Miraculous discovery—An infallible method by which sufferers can positively cure themselves...\n",
            "TOPICS: health, deafness, medical treatment\n",
            "SUMMARY: The text announces a free 30-page book by Dr. F. R. Hoghton offering a new, reliable method to cure deafness, aiming to protect sufferers from fraudulent treatments. Additionally, it promotes \"The Golden Referee,\" a publication by Dr. Franklin detailing a new treatment for nervous debility and related symptoms, available for purchase or by mail order.\n",
            "\n",
            "--- 15 ---\n",
            "TEXT: I,IVERPOOL DISPENSARIES.-A GENERAL MEETING of the GOVERNORS of this Institution will be holden in the Clarendon-rooms, South John-street, on WED- NESDAY, the nth instant, between the hours of Eleven a...\n",
            "TOPICS: health, local news, elections\n",
            "SUMMARY: A general meeting of the Liverpool Dispensaries' Governors is scheduled to elect an honorary medical officer to replace Mr. Henry Lowndes, who resigned. Candidates must submit their credentials by July 24th, and voting rules specify no proxy votes except from ladies in their own handwriting, with subscription payments required for voting eligibility.\n",
            "\n",
            "Wrote 15 rows to news_topics_summary.xlsx\n"
          ]
        }
      ]
    },
    {
      "cell_type": "markdown",
      "source": [
        "# Further exercises:\n",
        "\n",
        "* If done and bored, go back to task 2 and try to replicate the OCR error correction idea - do you see any positive outcome?"
      ],
      "metadata": {
        "id": "RAlzT-SZmuuu"
      }
    }
  ]
}