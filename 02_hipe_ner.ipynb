{
  "nbformat": 4,
  "nbformat_minor": 0,
  "metadata": {
    "colab": {
      "provenance": [],
      "authorship_tag": "ABX9TyNmGD+C0HpJgQe3Lf8N2X5i",
      "include_colab_link": true
    },
    "kernelspec": {
      "name": "python3",
      "display_name": "Python 3"
    },
    "language_info": {
      "name": "python"
    }
  },
  "cells": [
    {
      "cell_type": "markdown",
      "metadata": {
        "id": "view-in-github",
        "colab_type": "text"
      },
      "source": [
        "<a href=\"https://colab.research.google.com/github/TurkuNLP/DIGHT25/blob/main/02_hipe_ner.ipynb\" target=\"_parent\"><img src=\"https://colab.research.google.com/assets/colab-badge.svg\" alt=\"Open In Colab\"/></a>"
      ]
    },
    {
      "cell_type": "markdown",
      "source": [
        "# DSPy tutorial part 2\n",
        "\n",
        "* Grabs a dataset of historical documents from the HIPE-2022 shared task\n"
      ],
      "metadata": {
        "id": "iay3NUGGT8IM"
      }
    },
    {
      "cell_type": "code",
      "source": [
        "!pip install -q dspy\n",
        "!wget https://github.com/TurkuNLP/DIGHT25/raw/refs/heads/main/hipe_extracted.json\n",
        "\n",
        "#Get the API key\n",
        "!wget -O api-key.txt http://epsilon-it.utu.fi/dight-api-key-1.txt\n",
        "api_key=open(\"api-key.txt\").read().strip()\n",
        "\n",
        "#Backup option:\n",
        "#api_key=\"sk_....\""
      ],
      "metadata": {
        "colab": {
          "base_uri": "https://localhost:8080/"
        },
        "collapsed": true,
        "id": "r1HJ7-_2VIrY",
        "outputId": "ccc8c252-881b-49bc-f81b-f117109b26b3"
      },
      "execution_count": 1,
      "outputs": [
        {
          "output_type": "stream",
          "name": "stdout",
          "text": [
            "\u001b[2K     \u001b[90m━━━━━━━━━━━━━━━━━━━━━━━━━━━━━━━━━━━━━━━━\u001b[0m \u001b[32m41.2/41.2 kB\u001b[0m \u001b[31m2.0 MB/s\u001b[0m eta \u001b[36m0:00:00\u001b[0m\n",
            "\u001b[2K   \u001b[90m━━━━━━━━━━━━━━━━━━━━━━━━━━━━━━━━━━━━━━━━\u001b[0m \u001b[32m260.1/260.1 kB\u001b[0m \u001b[31m10.4 MB/s\u001b[0m eta \u001b[36m0:00:00\u001b[0m\n",
            "\u001b[2K   \u001b[90m━━━━━━━━━━━━━━━━━━━━━━━━━━━━━━━━━━━━━━━━\u001b[0m \u001b[32m45.5/45.5 kB\u001b[0m \u001b[31m3.3 MB/s\u001b[0m eta \u001b[36m0:00:00\u001b[0m\n",
            "\u001b[2K   \u001b[90m━━━━━━━━━━━━━━━━━━━━━━━━━━━━━━━━━━━━━━━━\u001b[0m \u001b[32m9.0/9.0 MB\u001b[0m \u001b[31m97.0 MB/s\u001b[0m eta \u001b[36m0:00:00\u001b[0m\n",
            "\u001b[2K   \u001b[90m━━━━━━━━━━━━━━━━━━━━━━━━━━━━━━━━━━━━━━━━\u001b[0m \u001b[32m400.9/400.9 kB\u001b[0m \u001b[31m25.9 MB/s\u001b[0m eta \u001b[36m0:00:00\u001b[0m\n",
            "\u001b[2K   \u001b[90m━━━━━━━━━━━━━━━━━━━━━━━━━━━━━━━━━━━━━━━━\u001b[0m \u001b[32m57.4/57.4 kB\u001b[0m \u001b[31m4.1 MB/s\u001b[0m eta \u001b[36m0:00:00\u001b[0m\n",
            "\u001b[2K   \u001b[90m━━━━━━━━━━━━━━━━━━━━━━━━━━━━━━━━━━━━━━━━\u001b[0m \u001b[32m247.4/247.4 kB\u001b[0m \u001b[31m18.1 MB/s\u001b[0m eta \u001b[36m0:00:00\u001b[0m\n",
            "\u001b[?25h--2025-08-28 08:00:50--  https://github.com/TurkuNLP/DIGHT25/raw/refs/heads/main/hipe_extracted.json\n",
            "Resolving github.com (github.com)... 140.82.116.4\n",
            "Connecting to github.com (github.com)|140.82.116.4|:443... connected.\n",
            "HTTP request sent, awaiting response... 302 Found\n",
            "Location: https://raw.githubusercontent.com/TurkuNLP/DIGHT25/refs/heads/main/hipe_extracted.json [following]\n",
            "--2025-08-28 08:00:50--  https://raw.githubusercontent.com/TurkuNLP/DIGHT25/refs/heads/main/hipe_extracted.json\n",
            "Resolving raw.githubusercontent.com (raw.githubusercontent.com)... 185.199.108.133, 185.199.109.133, 185.199.110.133, ...\n",
            "Connecting to raw.githubusercontent.com (raw.githubusercontent.com)|185.199.108.133|:443... connected.\n",
            "HTTP request sent, awaiting response... 200 OK\n",
            "Length: 43541 (43K) [text/plain]\n",
            "Saving to: ‘hipe_extracted.json’\n",
            "\n",
            "hipe_extracted.json 100%[===================>]  42.52K  --.-KB/s    in 0.008s  \n",
            "\n",
            "2025-08-28 08:00:50 (4.97 MB/s) - ‘hipe_extracted.json’ saved [43541/43541]\n",
            "\n",
            "--2025-08-28 08:00:50--  http://epsilon-it.utu.fi/dight-api-key-1.txt\n",
            "Resolving epsilon-it.utu.fi (epsilon-it.utu.fi)... 130.232.253.13\n",
            "Connecting to epsilon-it.utu.fi (epsilon-it.utu.fi)|130.232.253.13|:80... connected.\n",
            "HTTP request sent, awaiting response... 200 OK\n",
            "Length: 165 [text/plain]\n",
            "Saving to: ‘api-key.txt’\n",
            "\n",
            "api-key.txt         100%[===================>]     165  --.-KB/s    in 0s      \n",
            "\n",
            "2025-08-28 08:00:51 (22.4 MB/s) - ‘api-key.txt’ saved [165/165]\n",
            "\n"
          ]
        }
      ]
    },
    {
      "cell_type": "code",
      "source": [
        "from google.colab import userdata\n",
        "import json\n",
        "import random\n",
        "\n",
        "rows=json.load(open(\"hipe_extracted.json\"))\n",
        "random.shuffle(rows)"
      ],
      "metadata": {
        "id": "gXPQHftbOYT8"
      },
      "execution_count": 2,
      "outputs": []
    },
    {
      "cell_type": "code",
      "execution_count": 3,
      "metadata": {
        "id": "ps7bw_9GtJKP"
      },
      "outputs": [],
      "source": [
        "import dspy\n",
        "\n",
        "class SimpleEnglishNER(dspy.Signature):\n",
        "    \"\"\"Extract entities as a list:\n",
        "    [{\"text\":\"Barack Obama\",\"type\":\"PERSON\"}, {\"text\":\"Berlin\",\"type\":\"LOCATION\"}]\n",
        "    Allowed types: PERSON, ORGANIZATION,PRODUCT,TIME,LOCATION\n",
        "\n",
        "    \"\"\"\n",
        "    text = dspy.InputField(desc=\"a snippet of historical document\")\n",
        "    entities = dspy.OutputField(desc=\"a list\")\n",
        "\n",
        "# configure your model (edit to your backend/key)\n",
        "lm=dspy.LM(\"openai/gpt-4.1-mini\",api_key=api_key)\n",
        "dspy.configure(lm=lm)\n",
        "\n",
        "predict = dspy.Predict(signature=SimpleEnglishNER)\n",
        "\n",
        "\n"
      ]
    },
    {
      "cell_type": "code",
      "source": [],
      "metadata": {
        "id": "QHItUWu7iATM"
      },
      "execution_count": 3,
      "outputs": []
    },
    {
      "cell_type": "code",
      "source": [
        "for row in rows[:15]: #only take first 15 rows\n",
        "    text = row\n",
        "    out = predict(text=text)\n",
        "    pred = out.entities\n",
        "    print(\"TEXT:\", text)\n",
        "    print(\"PRED:\", pred)\n",
        "    print()"
      ],
      "metadata": {
        "id": "uZT4czB3PjfF",
        "outputId": "eb329e1b-92a4-49b6-d6c8-87221e433a02",
        "colab": {
          "base_uri": "https://localhost:8080/"
        }
      },
      "execution_count": 4,
      "outputs": [
        {
          "output_type": "stream",
          "name": "stdout",
          "text": [
            "TEXT: The firm of Geo . D . Barnard iSr Co . , of St . Louis , a firm which some officials in this county give a great many orders for letter beads , envel - ' opes and such other blanks as could be furnished by the printing offices in this county , arc all Republicans , but Mr . Keene , their traveling sales ¬ man in this territory , we understand , is a Democrat . We have been in ¬ formed , upon good authority , that Messrs . Barnard & Co . are not uni ¬ form in their prices . For instance , ’ a certain blank book they have beer * known to sell in Montgomery county for $17 . In St . Charles county they place “ a tariff ” of SI ' , on the same book , and in Lincoln county the purchasers were required to ‘ ‘ break loose from ” $21 for the very same book . We presume their prices arc made in proportion to the number of pocket - knives , gold pens , etc . , they give away to capture an order . If Democratic county of ¬ ficials will send their orders abroad for job work , let them , at least ,\n",
            "PRED: [{\"text\":\"Geo . D . Barnard iSr Co .\",\"type\":\"ORGANIZATION\"}, {\"text\":\"St . Louis\",\"type\":\"LOCATION\"}, {\"text\":\"Mr . Keene\",\"type\":\"PERSON\"}, {\"text\":\"Montgomery county\",\"type\":\"LOCATION\"}, {\"text\":\"St . Charles county\",\"type\":\"LOCATION\"}, {\"text\":\"Lincoln county\",\"type\":\"LOCATION\"}]\n",
            "\n",
            "TEXT: NOTICE . By virtue of a bil of sale issued by Tom Scarlett , Circuit Court Clerk for Putnam County , . ennessee , dated on the 6tU . day of January , 1920 , I will expore to sale to tne highest bidder for cash on the 31st day of January , 1920 , at 1 : 0 ; o ’ clock , P . M . at the Courthouse door in the Town of Cookeville , the following property , to - wit : A house and lot located in the 19th Civil District of Putnam County , Tennessee , containing one acre , more or less , bounded on the east by the lands of J . R . Watson ; on the north by the T . C . R . K . Co . ; on the west by the lands of Phy ; on the south by the lands of J . R . Watson ; levied on as the lands of D . Ritten ¬ berry , to satisfy a Judgment in favor of P . L . Ramsey ag - ih st him , with interest and all the cost.i of the case . This Jan . 6th , 1920 . L . F . MILLER , Sheriff .\n",
            "PRED: [\n",
            "    {\"text\":\"Tom Scarlett\",\"type\":\"PERSON\"},\n",
            "    {\"text\":\"Circuit Court Clerk\",\"type\":\"ORGANIZATION\"},\n",
            "    {\"text\":\"Putnam County\",\"type\":\"LOCATION\"},\n",
            "    {\"text\":\"Tennessee\",\"type\":\"LOCATION\"},\n",
            "    {\"text\":\"6th day of January, 1920\",\"type\":\"TIME\"},\n",
            "    {\"text\":\"31st day of January, 1920\",\"type\":\"TIME\"},\n",
            "    {\"text\":\"1:00 o'clock, P.M.\",\"type\":\"TIME\"},\n",
            "    {\"text\":\"Courthouse door\",\"type\":\"LOCATION\"},\n",
            "    {\"text\":\"Town of Cookeville\",\"type\":\"LOCATION\"},\n",
            "    {\"text\":\"19th Civil District\",\"type\":\"LOCATION\"},\n",
            "    {\"text\":\"J. R. Watson\",\"type\":\"PERSON\"},\n",
            "    {\"text\":\"T. C. R. K. Co.\",\"type\":\"ORGANIZATION\"},\n",
            "    {\"text\":\"Phy\",\"type\":\"PERSON\"},\n",
            "    {\"text\":\"D. Rittenberry\",\"type\":\"PERSON\"},\n",
            "    {\"text\":\"P. L. Ramsey\",\"type\":\"PERSON\"},\n",
            "    {\"text\":\"L. F. MILLER\",\"type\":\"PERSON\"},\n",
            "    {\"text\":\"Sheriff\",\"type\":\"ORGANIZATION\"}\n",
            "]\n",
            "\n",
            "TEXT: TO BE RENTED , And possession given on or before the 25th of March next , A LL that valuable property formerly occupied by Col . Thomas Duff , Esq . in the village of Newport—consisting of a large commodious brick dwelling - house , pleasantly situated on the main street and elegantly fronting the river Christiana , well calculated for a large store , and as the Turnpike road leading from the Gap Ta ¬ vern or Lancaster to that place is now in consf . derable forwardness , and will probably be car ¬ ried into effect in the course of the next sum tner , it will certainly be one of the most eligible spots for business in the state of Delaware . It has every convenience , such as a good garden , barn , stabling and . other houses , See . tec . — A handsome FARM of excellent land , contiguous to the town , will \" be let with it , and two or three Lots in the vicinity thereof , well adapted for grass , or as the renter may think proper to apply them . There are also eight ac * rs of first ra\n",
            "PRED: [\n",
            "    {\"text\":\"Col. Thomas Duff\",\"type\":\"PERSON\"},\n",
            "    {\"text\":\"Newport\",\"type\":\"LOCATION\"},\n",
            "    {\"text\":\"river Christiana\",\"type\":\"LOCATION\"},\n",
            "    {\"text\":\"Turnpike road\",\"type\":\"LOCATION\"},\n",
            "    {\"text\":\"Gap Tavern\",\"type\":\"LOCATION\"},\n",
            "    {\"text\":\"Lancaster\",\"type\":\"LOCATION\"},\n",
            "    {\"text\":\"Delaware\",\"type\":\"LOCATION\"},\n",
            "    {\"text\":\"25th of March\",\"type\":\"TIME\"},\n",
            "    {\"text\":\"next summer\",\"type\":\"TIME\"}\n",
            "]\n",
            "\n",
            "TEXT: Housewives League Hold : Convention at Tuskegee The National Housewives Lea ¬ gue of America recently convened at T iskegee Institute . Ala . under the theme , “ Girded for Progress a * Mid - Century . ” The opening meeting was called to order by Mrs . Chris ¬ tina Fuqua , president of De ¬ troit . Mich . , and opened with a solo by Mrs . Mattie S . Bibb . Mrs . E . R . Naggles . Iota Phi Lambda sorority , Tuskegee In ¬ stitute , welcomed the Leagu.e to Tuskegee . followed by a solo by Mrs . Willie M . Miller with Mrs . A . R Ashley as accomp - panist . In addressing the League , Mrs . Fuqua explained the purpose of the League , its achievements and how it can function in a com ¬ munity . knowing its national pos ¬ sibilities . The president pointed out that women should be proud that they spend the “ must ' * dollars ; that is . the dollar for the home and that they could help by being a part of the growing Negro busi ¬ nesses . She stated that pool - buying would help Negro busi ¬ ne\n",
            "PRED: [\n",
            "    {\"text\":\"National Housewives League of America\",\"type\":\"ORGANIZATION\"},\n",
            "    {\"text\":\"Tuskegee Institute\",\"type\":\"ORGANIZATION\"},\n",
            "    {\"text\":\"Tuskegee\",\"type\":\"LOCATION\"},\n",
            "    {\"text\":\"Mrs. Christina Fuqua\",\"type\":\"PERSON\"},\n",
            "    {\"text\":\"Detroit, Mich.\",\"type\":\"LOCATION\"},\n",
            "    {\"text\":\"Mrs. Mattie S. Bibb\",\"type\":\"PERSON\"},\n",
            "    {\"text\":\"Mrs. E. R. Naggles\",\"type\":\"PERSON\"},\n",
            "    {\"text\":\"Iota Phi Lambda sorority\",\"type\":\"ORGANIZATION\"},\n",
            "    {\"text\":\"Mrs. Willie M. Miller\",\"type\":\"PERSON\"},\n",
            "    {\"text\":\"Mrs. A. R Ashley\",\"type\":\"PERSON\"},\n",
            "    {\"text\":\"Mid-Century\",\"type\":\"TIME\"}\n",
            "]\n",
            "\n",
            "TEXT: A little over a year ago the Stur ¬ geon Lendcr published a very sensa ¬ tional account of the marriage of Miss Nettie White to Robt . L . Winn . Miss White.at the time , was engaged to both Chas . and Robt . Winn , two brothers , but had much difficulty in deciding which of her lovers was the wbichest . Robt . , however , proved to be the successful suitor . The young couple recently agreed to dis ¬ agree , and the faithless Robt . left for Texas , and the young wife re ¬ turned to the home of her parents , and has instituted suit for divorce from her inconstant spouse upon the grounJs of desertion . The pros ¬ pects for a re - hearing for the dis ¬ consolate Charles , who has spent the intervening time in repining , are growing very bright , as the young lady now declares that she really loved Charles best in tbe first place .\n",
            "PRED: [\n",
            "    {\"text\":\"Sturgeon Lender\",\"type\":\"ORGANIZATION\"},\n",
            "    {\"text\":\"Miss Nettie White\",\"type\":\"PERSON\"},\n",
            "    {\"text\":\"Robt. L. Winn\",\"type\":\"PERSON\"},\n",
            "    {\"text\":\"Chas. Winn\",\"type\":\"PERSON\"},\n",
            "    {\"text\":\"Robt. Winn\",\"type\":\"PERSON\"},\n",
            "    {\"text\":\"Texas\",\"type\":\"LOCATION\"},\n",
            "    {\"text\":\"Charles\",\"type\":\"PERSON\"}\n",
            "]\n",
            "\n",
            "TEXT: LATEST FROM SPAIN . Captain Taylor , of the ship Caledonia , arrived at Philadelphia on Monday , from Cadiz , states , that the French army , after passing the Sierra Morena , had taken Seville—drove the whole count rv , at masse , before them into Cadiz—cap ¬ tured Port Maria , the watering plac e , opposite the city of Cadiz , where they were fortifying themselves . They had been fired upon constant ¬ ly from o British two decker and 40 gun boats , but without success . A flag had been sent into Cadiz to demand its surrender to its lawful sove ¬ reign and friend , king Joseph — tire answer re . turned was , that the loyal people of Cadiz , knew no king but Ferdinand . The junta were at the head of Cadiz Bay , at a small place called Iliea . The French and Span ¬ ish men of war had their sails bent , and were ready for sea , to the number of 17 . The British admiral , Purvis , with about 12 ships of war , was at Cadiz , und appeared to have the principal direction . Cadiz being so muc\n",
            "PRED: [\n",
            "    {\"text\":\"Captain Taylor\",\"type\":\"PERSON\"},\n",
            "    {\"text\":\"Caledonia\",\"type\":\"ORGANIZATION\"},\n",
            "    {\"text\":\"Philadelphia\",\"type\":\"LOCATION\"},\n",
            "    {\"text\":\"Cadiz\",\"type\":\"LOCATION\"},\n",
            "    {\"text\":\"French army\",\"type\":\"ORGANIZATION\"},\n",
            "    {\"text\":\"Sierra Morena\",\"type\":\"LOCATION\"},\n",
            "    {\"text\":\"Seville\",\"type\":\"LOCATION\"},\n",
            "    {\"text\":\"Port Maria\",\"type\":\"LOCATION\"},\n",
            "    {\"text\":\"British\",\"type\":\"ORGANIZATION\"},\n",
            "    {\"text\":\"king Joseph\",\"type\":\"PERSON\"},\n",
            "    {\"text\":\"Ferdinand\",\"type\":\"PERSON\"},\n",
            "    {\"text\":\"junta\",\"type\":\"ORGANIZATION\"},\n",
            "    {\"text\":\"Cadiz Bay\",\"type\":\"LOCATION\"},\n",
            "    {\"text\":\"Iliea\",\"type\":\"LOCATION\"},\n",
            "    {\"text\":\"French and Spanish men of war\",\"type\":\"ORGANIZATION\"},\n",
            "    {\"text\":\"British admiral Purvis\",\"type\":\"PERSON\"},\n",
            "    {\"text\":\"Cadiz\",\"type\":\"LOCATION\"}\n",
            "]\n",
            "\n",
            "TEXT: LONDON , Dec . 31 . The official account of the capture ofBruffels pnbliflied by the Patriots , is as under . It is dated the 12tli of December . “ At length , notwithftanding the armifiice , and every other pretence , joo brave Patriots of Brufiels have dared to engage in battle with 6poo Aullrains . The action commencedyelterday af ¬ ternoon , at four o ’ clock . The firft attenpt was.tp make prifoners of all the loldiers who guarded the Mint , and thofe who were quartered in the different converts . General D ’ Alton did his tu ¬ rnoff from fix o ’ clock in the morning to negociate an armifiice . About ( even o ’ clock , 8co men of Benden - D ’ Aloft entered the city with two pieces of cannon , which they planted on the Grand Pa ¬ lace . About ten o ’ clock General D ’ Alton thought proper to fend a large dctatchment in order to releafe , by forcible means , the ollicers and pri ¬ vates made prifoners in lhe Bafleville . This was the fignal for a new engagement , which will be ever\n",
            "PRED: [\n",
            "    {\"text\":\"LONDON\",\"type\":\"LOCATION\"},\n",
            "    {\"text\":\"Bruffels\",\"type\":\"LOCATION\"},\n",
            "    {\"text\":\"Patriots\",\"type\":\"ORGANIZATION\"},\n",
            "    {\"text\":\"Brufiels\",\"type\":\"LOCATION\"},\n",
            "    {\"text\":\"Aullrains\",\"type\":\"ORGANIZATION\"},\n",
            "    {\"text\":\"General D ’ Alton\",\"type\":\"PERSON\"},\n",
            "    {\"text\":\"Benden - D ’ Aloft\",\"type\":\"ORGANIZATION\"},\n",
            "    {\"text\":\"Grand Palace\",\"type\":\"LOCATION\"},\n",
            "    {\"text\":\"Bafleville\",\"type\":\"LOCATION\"},\n",
            "    {\"text\":\"December 12\",\"type\":\"TIME\"},\n",
            "    {\"text\":\"December 31\",\"type\":\"TIME\"}\n",
            "]\n",
            "\n",
            "TEXT: A Bit oT Daring . A Western paper tells the story of Steve Venard ’ s fight with three rob ¬ bers in 1866 . The stage coming to Nevada , Col . , had been robbed by three men , and the treasure - box taken . A party set out for its recovery . Yenard , armed with a Henry rifle , followed the trail alone into one of the wildest and roughest of spots in that wild and rug ¬ ged region . The hills hung steep above . The waters of the ravine came tumbling down its steep bed of bowl ¬ ders with a rush and a noise which ren ¬ dered no other sounds audible . Yenard attempted to cross the stream at the head of the fall . He walked on a short log to a rock . Above him rose the huge mass of granite , buttressed in front by two smaller rocks . Between these latter was an alley which led to the base of the Titan . His position was suen as to look up the alley . At the base of the great rock Yenard discov ¬ ered the leader of the gang sit ¬ ting on the ground drawing his revolver . Venard leveled his\n",
            "PRED: [{\"text\":\"Steve Venard\",\"type\":\"PERSON\"},{\"text\":\"Nevada\",\"type\":\"LOCATION\"},{\"text\":\"Henry rifle\",\"type\":\"PRODUCT\"},{\"text\":\"1866\",\"type\":\"TIME\"}]\n",
            "\n",
            "TEXT: Registration is Light Dp to this morning only 237 voters had registered for the primary elec ¬ tion September 13 . It is estimated that there are at least . 600 qualified voters in Pullman and as the books remain open for only ten days more it , is doubtful if anything like a full registration will be obtained . Tomor ¬ row morning Clerk Henry will take his books to the office of Tweed Amos , on the north side of Main street , where he will hold forth till the primary election . An effort will be made to get as many voters regis - ered as possible and the books will be kept open from 8 a . m . to 8 p . m . , to accommodate those who are unable to get to the office during working hours .\n",
            "PRED: [{\"text\":\"September 13\",\"type\":\"TIME\"}, {\"text\":\"Pullman\",\"type\":\"LOCATION\"}, {\"text\":\"Henry\",\"type\":\"PERSON\"}, {\"text\":\"Tweed Amos\",\"type\":\"PERSON\"}, {\"text\":\"Main street\",\"type\":\"LOCATION\"}, {\"text\":\"8 a.m.\",\"type\":\"TIME\"}, {\"text\":\"8 p.m.\",\"type\":\"TIME\"}]\n",
            "\n",
            "TEXT: Whitman Defeated Twice . Washington State College won two games of base ball from Whitman college this week . The games were played Wednesday and Thursday afternoons , after school closed at • ! o ' clock . Wednesday W . S . C . won by a score of 10 to 0 and Thursday the State College team again won , the score being 7 to 1 . Both games were well played and were witness ¬ ed by a large crowd of enthusiastic rooters . . Whitman ’ s team went to Moscow to play tlie University of Idaho Friday and Saturday .\n",
            "PRED: [{\"text\":\"Washington State College\",\"type\":\"ORGANIZATION\"}, {\"text\":\"Whitman College\",\"type\":\"ORGANIZATION\"}, {\"text\":\"Wednesday\",\"type\":\"TIME\"}, {\"text\":\"Thursday\",\"type\":\"TIME\"}, {\"text\":\"Moscow\",\"type\":\"LOCATION\"}, {\"text\":\"University of Idaho\",\"type\":\"ORGANIZATION\"}, {\"text\":\"Friday\",\"type\":\"TIME\"}, {\"text\":\"Saturday\",\"type\":\"TIME\"}]\n",
            "\n",
            "TEXT: From the Pennsylvanian . Harrisburg , June 26 , 1S40 . Gentlemen : — I had the honor to receive yours of the 17th iust . , as well as another let ¬ ter of similar import , dated 16th inst . , tender ¬ ing to me a public dinner at such time and place as would best suit my convenience and stay among you , just on the eve of my depar ¬ ture from Philadelphia . It is a matter of re ¬ gret to me , that time , and my other indispen ¬ sable engagements rendered it impracticable to accept of your kindly proffered hospitality Allow mo to return my warmest thanks for the “ high regard and esteem ” you have been pleased to express in my behalf for my meri ¬ torious services . ” I cannot , and I ought not to suppose , that during periods of such trying and unexampled embarrassments as have dis ¬ tinguished the history of Pennsylvania since it has been my fortune to be entrusted with the executive functions of her government , every official act I may find it necessary to perform , and every recomm\n",
            "PRED: [{\"text\":\"Pennsylvanian\",\"type\":\"ORGANIZATION\"}, {\"text\":\"Harrisburg\",\"type\":\"LOCATION\"}, {\"text\":\"June 26, 1840\",\"type\":\"TIME\"}, {\"text\":\"Philadelphia\",\"type\":\"LOCATION\"}, {\"text\":\"Pennsylvania\",\"type\":\"LOCATION\"}]\n",
            "\n",
            "TEXT: CLEARING UP THE EDENTON CENSUS COUNT Edentonians have berm raising quite a squawk over the census re ¬ turns , They claim that the census enumerators were lax in their ! duties , that the carriers beak ; cf the Edcnton pnsloff.ee show that the poslofficc serves approximate ¬ ly 4,500 in contrast to the official census count of 3,519 ; they arc clamoiing for a new enumeration . In the efTia * of the District Supervisor of Census , this is cla . s - id as Chamber ef Csmmcrcc and press ballyhoo . Edentonians have been boasting ‘ for several years that the population ol their town was more than 5,000 J when the official count revealed only 3.519 . Edentonians ware dis ¬ appointed and began to grumble . Several s * dulous busybodies , anxious to boost the population of their town , borrowed the carrier ’ s books from the postofTice and counted all the names therein . They found nearly 4.500 names in the books . And immediately a cry was raised . ‘ Wc want , a new tabulation . There are a th\n",
            "PRED: [{\"text\":\"Edenton\",\"type\":\"LOCATION\"}, {\"text\":\"District Supervisor of Census\",\"type\":\"ORGANIZATION\"}, {\"text\":\"Chamber of Commerce\",\"type\":\"ORGANIZATION\"}]\n",
            "\n",
            "TEXT: THE HEW COUNTY BRIDGE AND < * SCHOOL , HOUSE . Tlie new county bridge over the James river , just south of town , is completed and ready for public patronage . Its entire length is 160 leet , and its substruction is built of 12x12 timbers , with a covering 16 leet wide , made of 7 inch plank , with a railing 3 feet high on each side . The bridge was constructed by Peter Auberton of this city . Mr . Auberton also took the ^ contract for building the village school house for this place , which he expects to have done by the first of February . The school building is 30x42 , 28 feet high above the stone foundation—which stands 2 feet above the ground There is a partition , cutting off 12 feet from the front of th ^ building , to be used for a stairway and entry room , leaving the school room on the first floor 30 feet square . The front porch which faces toward the south , is 8x12 , and gracefully ornamented with different kinds of scroll work . The cupola or belfry , is 8 feet square and\n",
            "PRED: [{\"text\":\"Hew County Bridge\",\"type\":\"ORGANIZATION\"},{\"text\":\"James river\",\"type\":\"LOCATION\"},{\"text\":\"Peter Auberton\",\"type\":\"PERSON\"},{\"text\":\"February\",\"type\":\"TIME\"}]\n",
            "\n",
            "TEXT: CRIMSON CLOVER I had a short article in last week ’ s Herald on the importance of crimson clover , and I have asked some of the farmers of the county who have had the most experience with this very - valuable crop to give me a word of testimony of this crop and what they think of it as a crop to build up the soil . Now . I am not acquainted with all the farmers who have grown crimson clover ’ Putnam county and 1 wish I was . I would have a great many more short articles published , but to any one who has grown this crotp and feels like recommending it to his farmer frieds please write a short piece and send to me or the Herald with your name signed , so we can see who has had the experience . A few things which should be done in getting a stand of crimson clover : First , prepare - the seed bed well . Make the seed / bed as for wheat or clover and sow 15 to 20 lbs . of se6d to the acre and if there has be n other clover grown on the land recently inoculation is not necessary ; otherwis\n",
            "PRED: [{\"text\":\"Herald\",\"type\":\"ORGANIZATION\"}, {\"text\":\"Putnam county\",\"type\":\"LOCATION\"}]\n",
            "\n",
            "TEXT: \" Caius of the Mnfott [ BY AUTHORITY . ] AN ACT FartllerY ^ atfeffnd amend • • A a act providing for fWr | census or enumeration of tire inhabitants of I he United States . * * \" O L it enacted by the Senate and House of U Representatives of the United States oj America , in Congress assembled , That so much of the first section of the act passed during the present session of Congress , enti ¬ tled “ An act providing for the third census or enumeration of the inhabitants of the United Stares , ” a3 relates to the forms of oaths or affirm : lions thereby directed to bej taken by the marshals , secretaries and assistants therein mentioned respectively , shall be and hereby is repealed , and the said oaths or affirmations shall he in the following sunns , that is to say : The shals * and secretaires ’ oaths in the form following ; “ L A . 13 . marshal of the dis ¬ trict of ( or secretary of the territory of the cause may be ) do solemnly swear or affirm , that I will well and truly case t\n",
            "PRED: [{\"text\":\"United States\",\"type\":\"LOCATION\"},{\"text\":\"Senate\",\"type\":\"ORGANIZATION\"},{\"text\":\"House of Representatives\",\"type\":\"ORGANIZATION\"},{\"text\":\"Congress\",\"type\":\"ORGANIZATION\"},{\"text\":\"United States of America\",\"type\":\"LOCATION\"}]\n",
            "\n"
          ]
        }
      ]
    },
    {
      "cell_type": "markdown",
      "source": [
        "Tasks:\n",
        "\n",
        "1. Are you happy with the result?\n",
        "2. Can you make the model guess e.g. types of locations? Does the result align with your intuition?\n",
        "\n"
      ],
      "metadata": {
        "id": "-BLuODsDUsCW"
      }
    }
  ]
}